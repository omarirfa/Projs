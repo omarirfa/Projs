{
 "cells": [
  {
   "cell_type": "code",
   "execution_count": 2,
   "metadata": {
    "scrolled": true
   },
   "outputs": [],
   "source": [
    "import SimpleITK as sitk\n",
    "import numpy as np\n",
    "import nibabel as nib\n",
    "import os\n",
    "import sklearn\n",
    "import scipy\n",
    "import matplotlib\n",
    "#matplotlib.use('TkAgg')\n",
    "matplotlib.use('Qt5Agg')\n",
    "import matplotlib.pyplot as plt\n",
    "import hdbscan as hdbs\n",
    "#import imageio\n",
    "#import vispy\n",
    "from scipy.spatial.distance import cdist\n",
    "import seaborn as sns\n",
    "import shutil\n",
    "import pandas_ml as pdml\n",
    "import time\n",
    "import skbio\n",
    "from sklearn.cluster import KMeans\n",
    "from sklearn import cluster\n",
    "from sklearn import metrics\n",
    "from sklearn.feature_extraction.image import grid_to_graph\n",
    "import imutils\n",
    "import cv2\n",
    "#from PIL import Image\n",
    "from pandas_ml import ConfusionMatrix\n",
    "import seaborn as sns\n",
    "import warnings\n",
    "from coclust.evaluation.external import accuracy\n",
    "from sklearn.metrics import classification_report\n",
    "warnings.filterwarnings('ignore')\n",
    "%matplotlib inline\n",
    "#sns.set_context('poster')\n",
    "#sns.set_color_codes()\n",
    "plot_kwds = {'alpha' : 0.25, 's' : 80, 'linewidths':0}"
   ]
  },
  {
   "cell_type": "code",
   "execution_count": null,
   "metadata": {},
   "outputs": [],
   "source": [
    "#from nibabel.testing import data_path\n",
    "#bratsflair = os.path.join(data_path, '/home/omar/Documents/thesis-datasets/MICCAI_BraTS_2018_Data_Validation/Brats18_CBICA_AAM_1/Brats18_CBICA_AAM_1_flair.nii')"
   ]
  },
  {
   "cell_type": "code",
   "execution_count": 3,
   "metadata": {},
   "outputs": [],
   "source": [
    "def myshow(img, title=None, margin=0.05, dpi=80 ):\n",
    "    nda = sitk.GetArrayFromImage(img)\n",
    "    spacing = img.GetSpacing()\n",
    "    \n",
    "    \n",
    "    if nda.ndim == 3:\n",
    "        # fastest dim, either component or x\n",
    "        c = nda.shape[-1]\n",
    "        \n",
    "        # the the number of components is 3 or 4 consider it an RGB image\n",
    "        if not c in (3,4):\n",
    "            nda = nda[nda.shape[0]//2,:,:]\n",
    "    \n",
    "    elif nda.ndim == 4:\n",
    "        c = nda.shape[-1]\n",
    "        \n",
    "        if not c in (3,4):\n",
    "            raise Runtime(\"Unable to show 3D-vector Image\")\n",
    "            \n",
    "        # take a z-slice\n",
    "        nda = nda[nda.shape[0]//2,:,:,:]\n",
    "            \n",
    "    ysize = nda.shape[0]\n",
    "    xsize = nda.shape[1]\n",
    "   \n",
    "    \n",
    "    # Make a figure big enough to accomodate an axis of xpixels by ypixels\n",
    "    # as well as the ticklabels, etc...\n",
    "    figsize = (1 + margin) * ysize / dpi, (1 + margin) * xsize / dpi\n",
    "\n",
    "    fig = plt.figure(figsize=figsize, dpi=dpi)\n",
    "    # Make the axis the right size...\n",
    "    ax = fig.add_axes([margin, margin, 1 - 2*margin, 1 - 2*margin])\n",
    "    \n",
    "    extent = (0, xsize*spacing[1], ysize*spacing[0], 0)\n",
    "    \n",
    "    t = ax.imshow(nda,extent=extent,interpolation=None)\n",
    "    \n",
    "    if nda.ndim == 2:\n",
    "        t.set_cmap(\"gray\")\n",
    "    \n",
    "    if(title):\n",
    "        plt.title(title)"
   ]
  },
  {
   "cell_type": "code",
   "execution_count": 4,
   "metadata": {},
   "outputs": [],
   "source": [
    "idxSlice = 77\n",
    "#idxSlice = 84\n",
    "#Brats18_CBICA_AYA_1 (idxslice=57)(segslice=57)[HGG]\n",
    "#Brats18_CBICA_AAB_1 (idxslice=87)(segslice=87)[HGG]\n",
    "#Brats18_CBICA_AAG_1 (idxslice=74)(segslice=74)[HGG]\n",
    "#Brats18_CBICA_AAL_1 (idxslice=82)(segslice=82)[HGG]\n",
    "#Brats18_CBICA_AAP_1 (idxslice=77)(segslice=77)[HGG]\n",
    "#Brats18_CBICA_ABB_1 (idxslice=91)(segslice=91)[HGG]\n",
    "#Brats18_CBICA_ABE_1 (idxslice=79)(segslice=79)[HGG]\n",
    "#Brats18_CBICA_ABO_1 (idxslice=93)(segslice=93)[HGG]\n",
    "#Brats18_CBICA_ALU_1 (idxslice=71)(segslice=71)[HGG]\n",
    "#Brats18_TCIA09_141_1 (idxslice=84)(segslice=84)[LGG] xx\n",
    "#Brats18_TCIA09_254_1 (idxslice=76)(segslice=76)[LGG]\n",
    "#Brats18_TCIA09_255_1 (idxslice=78)(segslice=74)[LGG]\n",
    "#Brats18_TCIA09_312_1 (idxslice=85)(segslice=85)[LGG]\n",
    "#Brats18_TCIA09_402_1 (idxslice=67)(segslice=67)[LGG]\n",
    "#Brats18_TCIA09_428_1 (idxslice=83)(segslice=83)[LGG] \n",
    "#Brats18_TCIA09_451_1 (idxslice=84)(segslice=84)[LGG]\n",
    "#Brats18_TCIA09_462_1 (idxslice=87)(segslice=87)[LGG]\n",
    "#Brats18_TCIA09_493_1 (idxslice=81)(segslice=81)[LGG]\n",
    "#Brats18_TCIA09_620_1 (idxslice=81)(segslice=81)[LGG]\n",
    "#Brats18_TCIA09_109_1 (idxslice=84)(segslice=84)[LGG]"
   ]
  },
  {
   "cell_type": "code",
   "execution_count": null,
   "metadata": {},
   "outputs": [],
   "source": [
    "#normaltest = cv2.imread(\"/home/omar/Documents/thesis-datasets/brain-mri-images-for-brain-tumor-detection/no/11_no.jpg\", cv2.IMREAD_GRAYSCALE)\n",
    "#normaltest = cv2.imread(\"/home/omar/Documents/thesis-datasets/brain-mri-images-for-brain-tumor-detection/no/7_no.jpg\", cv2.IMREAD_GRAYSCALE)\n",
    "#normaltest = cv2.imread(\"/home/omar/Documents/thesis-datasets/brain-mri-images-for-brain-tumor-detection/no/9_no.jpg\", cv2.IMREAD_GRAYSCALE)\n",
    "#normaltest = cv2.imread(\"/home/omar/Documents/thesis-datasets/brain-mri-images-for-brain-tumor-detection/no/42_no.jpg\", cv2.IMREAD_GRAYSCALE)\n",
    "#normaltest = cv2.imread(\"/home/omar/Documents/thesis-datasets/brain-mri-images-for-brain-tumor-detection/no/17_no.jpg\", cv2.IMREAD_GRAYSCALE)\n",
    "#normaltest = cv2.imread(\"/home/omar/Documents/thesis-datasets/brain-mri-images-for-brain-tumor-detection/no/22_no.jpg\", cv2.IMREAD_GRAYSCALE)\n",
    "#normaltest = cv2.imread(\"/home/omar/Documents/thesis-datasets/brain-mri-images-for-brain-tumor-detection/no/27_no.jpg\", cv2.IMREAD_GRAYSCALE)\n",
    "#normaltest = cv2.imread(\"/home/omar/Documents/thesis-datasets/brain-mri-images-for-brain-tumor-detection/no/29_no.jpg\", cv2.IMREAD_GRAYSCALE)\n",
    "normaltest = cv2.imread(\"/home/omar/Documents/thesis-datasets/brain-mri-images-for-brain-tumor-detection/no/34_no.jpg\", cv2.IMREAD_GRAYSCALE)\n",
    "#plt.imshow(normaltest)\n",
    "\n",
    "#normaltest = cv2.imread(\"/home/omar/Documents/thesis-datasets/brain-mri-images-for-brain-tumor-detection/no/21_no.jpg\", cv2.IMREAD_GRAYSCALE)\n",
    "plt.imshow(normaltest,cmap=plt.cm.gray)\n",
    "#plt.savefig(\"/home/omar/Documents/Results/normalbrain/normalbrain_42.jpg\")"
   ]
  },
  {
   "cell_type": "code",
   "execution_count": null,
   "metadata": {},
   "outputs": [],
   "source": [
    "ig = plt.figure()\n",
    "plt.hist(normaltest.flatten(), bins=100)\n",
    "plt.title('Tumor histogram prior to clustering')\n",
    "plt.show()\n",
    "#fig.savefig(\"/home/omar/Documents/Tumorhisto.jpg\")"
   ]
  },
  {
   "cell_type": "code",
   "execution_count": null,
   "metadata": {},
   "outputs": [],
   "source": [
    "pixel = normaltest[0,0]\n",
    "print (pixel)"
   ]
  },
  {
   "cell_type": "code",
   "execution_count": null,
   "metadata": {},
   "outputs": [],
   "source": [
    "# biasfieldcorrection requires a mask we used otsu to create a mask and cast the whole image into float32.\n",
    "sitk_flair = sitk.GetImageFromArray(normaltest)\n",
    "img_masknorm = sitk.OtsuThreshold(sitk_flair)\n",
    "imgcasnorm = sitk.Cast(sitk_flair, sitk.sitkFloat32)\n",
    "correctornorm = sitk.N4BiasFieldCorrectionImageFilter()\n",
    "img_cnorm = correctornorm.Execute(imgcasnorm, img_masknorm)\n",
    "myshow(img_cnorm)"
   ]
  },
  {
   "cell_type": "code",
   "execution_count": null,
   "metadata": {},
   "outputs": [],
   "source": []
  },
  {
   "cell_type": "code",
   "execution_count": null,
   "metadata": {
    "scrolled": true
   },
   "outputs": [],
   "source": []
  },
  {
   "cell_type": "code",
   "execution_count": null,
   "metadata": {},
   "outputs": [],
   "source": [
    "#smooth/denoising image\n",
    "Smoothnormalimg = sitk.CurvatureFlow(image1=img_cnorm,timeStep=0.125,numberOfIterations=5)\n",
    "myshow(Smoothnormalimg)\n",
    "#Smoothcast = sitk.Cast(Smoothimg,sitk.sitkUInt8)\n",
    "#Smoothcast.dtype\n",
    "#Smootharray = sitk.GetArrayFromImage(Smoothimg)\n",
    "#Smoothimg.dtype"
   ]
  },
  {
   "cell_type": "code",
   "execution_count": null,
   "metadata": {},
   "outputs": [],
   "source": [
    "img_rescale = sitk.Cast(sitk.RescaleIntensity(Smoothnormalimg), sitk.sitkUInt16)\n",
    "fl_resnorm = sitk.GetArrayFromImage(img_rescale)\n",
    "fl_resnorm"
   ]
  },
  {
   "cell_type": "code",
   "execution_count": null,
   "metadata": {},
   "outputs": [],
   "source": [
    "ig = plt.figure()\n",
    "plt.hist(fl_resnorm.flatten(), bins=100)\n",
    "plt.title('Tumor histogram prior to clustering')\n",
    "plt.show()\n",
    "#fig.savefig(\"/home/omar/Documents/Tumorhisto.jpg\")"
   ]
  },
  {
   "cell_type": "code",
   "execution_count": null,
   "metadata": {},
   "outputs": [],
   "source": [
    "normaltest.shape"
   ]
  },
  {
   "cell_type": "code",
   "execution_count": null,
   "metadata": {},
   "outputs": [],
   "source": [
    "#plt.imshow(normaltest)"
   ]
  },
  {
   "cell_type": "code",
   "execution_count": null,
   "metadata": {},
   "outputs": [],
   "source": [
    "ig = plt.figure()\n",
    "plt.hist(fl_resnorm.flatten(), bins=100)\n",
    "plt.title('Normal brain histogram')\n",
    "plt.show()\n",
    "#ig.savefig(\"/home/omar/Documents/Results/normalbrain/Normalbrainhisto_42.jpg\")"
   ]
  },
  {
   "cell_type": "code",
   "execution_count": null,
   "metadata": {},
   "outputs": [],
   "source": [
    "masknorm = fl_resnorm"
   ]
  },
  {
   "cell_type": "code",
   "execution_count": null,
   "metadata": {},
   "outputs": [],
   "source": [
    "#maskfig = plt.figure()\n",
    "mask = masknorm > 150\n",
    "masknorm[mask]=255\n",
    "plt.clf()\n",
    "plt.cla()\n",
    "plt.close()\n",
    "maskfig = plt.figure()\n",
    "plt.imshow(masknorm,cmap=plt.cm.gray)\n",
    "#plt.savefig(\"/home/omar/Documents/Results/normalbrain/maskednormal200_42.jpg\")\n",
    "#maskfig.clf()\n",
    "#plt.cla()\n",
    "#plt.close()\n"
   ]
  },
  {
   "cell_type": "code",
   "execution_count": null,
   "metadata": {},
   "outputs": [],
   "source": [
    "moment = cv2.moments(masknorm)\n",
    "X = int(moment[\"m10\"] / moment[\"m00\"])\n",
    "Y = int(moment[\"m01\"] / moment[\"m00\"])\n",
    "\n",
    "cv2.circle(masknorm,(X,Y),15,(0,255,0),3)\n",
    "\n",
    "plt.imshow(masknorm,'gray')\n",
    "cv2.waitKey(0)"
   ]
  },
  {
   "cell_type": "code",
   "execution_count": null,
   "metadata": {},
   "outputs": [],
   "source": [
    "normaltest.max()"
   ]
  },
  {
   "cell_type": "code",
   "execution_count": null,
   "metadata": {},
   "outputs": [],
   "source": [
    "#masknorm"
   ]
  },
  {
   "cell_type": "code",
   "execution_count": 5,
   "metadata": {},
   "outputs": [
    {
     "data": {
      "image/png": "[encoded data removed]",
      "text/plain": [
       "<Figure size 252x252 with 1 Axes>"
      ]
     },
     "metadata": {
      "needs_background": "light"
     },
     "output_type": "display_data"
    }
   ],
   "source": [
    "#HGG\n",
    "#strtest = sitk.ReadImage('/home/omar/Documents/thesis-datasets/MICCAI_BraTS_2018_Data_Training/HGG/Brats18_CBICA_AYA_1/Brats18_CBICA_AYA_1_flair.nii.gz')\n",
    "#strtest = sitk.ReadImage('/home/omar/Documents/thesis-datasets/MICCAI_BraTS_2018_Data_Training/HGG/Brats18_CBICA_AAB_1/Brats18_CBICA_AAB_1_flair.nii.gz')\n",
    "#strtest = sitk.ReadImage('/home/omar/Documents/thesis-datasets/MICCAI_BraTS_2018_Data_Training/HGG/Brats18_CBICA_AAG_1/Brats18_CBICA_AAG_1_flair.nii.gz')\n",
    "#strtest = sitk.ReadImage('/home/omar/Documents/thesis-datasets/MICCAI_BraTS_2018_Data_Training/HGG/Brats18_CBICA_AAL_1/Brats18_CBICA_AAL_1_flair.nii.gz')\n",
    "strtest = sitk.ReadImage('/home/omar/Documents/thesis-datasets/MICCAI_BraTS_2018_Data_Training/HGG/Brats18_CBICA_AAP_1/Brats18_CBICA_AAP_1_flair.nii.gz')\n",
    "#strtest = sitk.ReadImage('/home/omar/Documents/thesis-datasets/MICCAI_BraTS_2018_Data_Training/HGG/Brats18_CBICA_ABB_1/Brats18_CBICA_ABB_1_flair.nii.gz')\n",
    "#strtest = sitk.ReadImage('/home/omar/Documents/thesis-datasets/MICCAI_BraTS_2018_Data_Training/HGG/Brats18_CBICA_ABE_1/Brats18_CBICA_ABE_1_flair.nii.gz')\n",
    "#strtest = sitk.ReadImage('/home/omar/Documents/thesis-datasets/MICCAI_BraTS_2018_Data_Training/HGG/Brats18_CBICA_ABO_1/Brats18_CBICA_ABO_1_flair.nii.gz')\n",
    "#strtest = sitk.ReadImage('/home/omar/Documents/thesis-datasets/MICCAI_BraTS_2018_Data_Training/HGG/Brats18_CBICA_ALU_1/Brats18_CBICA_ALU_1_flair.nii.gz')\n",
    "#LGG\n",
    "#strtest = sitk.ReadImage('/home/omar/Documents/thesis-datasets/MICCAI_BraTS_2018_Data_Training/LGG/Brats18_TCIA10_109_1/Brats18_TCIA10_109_1_flair.nii.gz')\n",
    "#strtest = sitk.ReadImage('/home/omar/Documents/thesis-datasets/MICCAI_BraTS_2018_Data_Training/LGG/Brats18_TCIA09_254_1/Brats18_TCIA09_254_1_flair.nii.gz')\n",
    "#strtest = sitk.ReadImage('/home/omar/Documents/thesis-datasets/MICCAI_BraTS_2018_Data_Training/LGG/Brats18_TCIA09_255_1/Brats18_TCIA09_255_1_flair.nii.gz')\n",
    "#strtest = sitk.ReadImage('/home/omar/Documents/thesis-datasets/MICCAI_BraTS_2018_Data_Training/LGG/Brats18_TCIA09_312_1/Brats18_TCIA09_312_1_flair.nii.gz')\n",
    "#strtest = sitk.ReadImage('/home/omar/Documents/thesis-datasets/MICCAI_BraTS_2018_Data_Training/LGG/Brats18_TCIA09_402_1/Brats18_TCIA09_402_1_flair.nii.gz')\n",
    "#strtest = sitk.ReadImage('/home/omar/Documents/thesis-datasets/MICCAI_BraTS_2018_Data_Training/LGG/Brats18_TCIA09_428_1/Brats18_TCIA09_428_1_flair.nii.gz')\n",
    "#strtest = sitk.ReadImage('/home/omar/Documents/thesis-datasets/MICCAI_BraTS_2018_Data_Training/LGG/Brats18_TCIA09_451_1/Brats18_TCIA09_451_1_flair.nii.gz')\n",
    "#strtest = sitk.ReadImage('/home/omar/Documents/thesis-datasets/MICCAI_BraTS_2018_Data_Training/LGG/Brats18_TCIA09_462_1/Brats18_TCIA09_462_1_flair.nii.gz')\n",
    "#strtest = sitk.ReadImage('/home/omar/Documents/thesis-datasets/MICCAI_BraTS_2018_Data_Training/LGG/Brats18_TCIA09_493_1/Brats18_TCIA09_493_1_flair.nii.gz')\n",
    "#strtest = sitk.ReadImage('/home/omar/Documents/thesis-datasets/MICCAI_BraTS_2018_Data_Training/LGG/Brats18_TCIA09_620_1/Brats18_TCIA09_620_1_flair.nii.gz')\n",
    "\n",
    "#strtest = sitk.ReadImage('/home/omar/Documents/thesis-datasets/MICCAI_BraTS_2018_Data_Training/HGG/Brats18_CBICA_BHM_1/Brats18_CBICA_BHM_1_flair.nii.gz')\n",
    "strtest = strtest[:,:,idxSlice]\n",
    "strarr = sitk.GetArrayFromImage(strtest)\n",
    "strarr.shape\n",
    "myshow(strtest)"
   ]
  },
  {
   "cell_type": "code",
   "execution_count": null,
   "metadata": {},
   "outputs": [],
   "source": [
    "ig = plt.figure()\n",
    "plt.hist(strarr.flatten(), bins=100)\n",
    "plt.title('Original Tumor histogram before preproc')\n",
    "plt.show()\n",
    "#fig.savefig(\"/home/omar/Documents/Tumorhisto.jpg\")"
   ]
  },
  {
   "cell_type": "code",
   "execution_count": null,
   "metadata": {},
   "outputs": [],
   "source": [
    "#t1 = sitk.ReadImage('/home/omar/Documents/thesis-datasets/MICCAI_BraTS_2018_Data_Training/HGG/Brats18_CBICA_BHM_1/Brats18_CBICA_BHM_1_t1.nii.gz')\n",
    "#myshow(t1)"
   ]
  },
  {
   "cell_type": "code",
   "execution_count": null,
   "metadata": {},
   "outputs": [],
   "source": [
    "#t1ce = sitk.ReadImage('/home/omar/Documents/thesis-datasets/MICCAI_BraTS_2018_Data_Training/HGG/Brats18_CBICA_BHM_1/Brats18_CBICA_BHM_1_t1ce.nii.gz')\n",
    "#myshow(t1ce)"
   ]
  },
  {
   "cell_type": "code",
   "execution_count": null,
   "metadata": {},
   "outputs": [],
   "source": [
    "#t2 = sitk.ReadImage('/home/omar/Documents/thesis-datasets/MICCAI_BraTS_2018_Data_Training/HGG/Brats18_CBICA_BHM_1/Brats18_CBICA_BHM_1_t2.nii.gz')\n",
    "#myshow(t2)"
   ]
  },
  {
   "cell_type": "code",
   "execution_count": 6,
   "metadata": {},
   "outputs": [
    {
     "data": {
      "image/png": "[encoded data removed]",
      "text/plain": [
       "<Figure size 252x252 with 1 Axes>"
      ]
     },
     "metadata": {
      "needs_background": "light"
     },
     "output_type": "display_data"
    }
   ],
   "source": [
    "# biasfieldcorrection requires a mask we used otsu to create a mask and cast the whole image into float32.\n",
    "img_mask = sitk.OtsuThreshold(strtest)\n",
    "imgcas = sitk.Cast(strtest, sitk.sitkFloat32)\n",
    "corrector = sitk.N4BiasFieldCorrectionImageFilter()\n",
    "img_c = corrector.Execute(imgcas, img_mask)\n",
    "#sitk_show(img_c)\n",
    "myshow(img_c)"
   ]
  },
  {
   "cell_type": "code",
   "execution_count": 7,
   "metadata": {},
   "outputs": [
    {
     "data": {
      "image/png": "[encoded data removed]",
      "text/plain": [
       "<Figure size 252x252 with 1 Axes>"
      ]
     },
     "metadata": {
      "needs_background": "light"
     },
     "output_type": "display_data"
    }
   ],
   "source": [
    "#smooth/denoising image\n",
    "Smoothtumorimg = sitk.CurvatureFlow(image1=img_c,timeStep=0.125,numberOfIterations=5)\n",
    "myshow(Smoothtumorimg)\n",
    "#Smoothimg.dtype\n",
    "#Smoothcast = sitk.Cast(Smoothimg,sitk.sitkUInt8)\n",
    "#Smoothcast.dtype\n",
    "#Smootharray = sitk.GetArrayFromImage(Smoothimg)"
   ]
  },
  {
   "cell_type": "code",
   "execution_count": 8,
   "metadata": {},
   "outputs": [
    {
     "data": {
      "text/plain": [
       "(240, 240)"
      ]
     },
     "execution_count": 8,
     "metadata": {},
     "output_type": "execute_result"
    }
   ],
   "source": [
    "#img_rescale = sitk.Cast(sitk.RescaleIntensity(brats_flair), sitk.sitkFloat32)\n",
    "img_rescale = sitk.Cast(sitk.RescaleIntensity(Smoothtumorimg), sitk.sitkUInt16)\n",
    "fl_res= sitk.GetArrayFromImage(img_rescale)\n",
    "fl_res.shape"
   ]
  },
  {
   "cell_type": "code",
   "execution_count": null,
   "metadata": {},
   "outputs": [],
   "source": [
    "rig = plt.figure()\n",
    "plt.hist(fl_res.flatten(), bins=100)\n",
    "plt.title('Tumor histogram after preproc')\n",
    "plt.show()\n",
    "#fig.savefig(\"/home/omar/Documents/Tumorhisto.jpg\")"
   ]
  },
  {
   "cell_type": "code",
   "execution_count": null,
   "metadata": {},
   "outputs": [],
   "source": [
    "#difference = (fl_res == fl_resnorm).all()"
   ]
  },
  {
   "cell_type": "code",
   "execution_count": null,
   "metadata": {
    "scrolled": true
   },
   "outputs": [],
   "source": [
    "ig = plt.figure()\n",
    "plt.hist(strarr.flatten(), bins=100)\n",
    "plt.title('Tumor histogram prior to clustering')\n",
    "plt.show()\n",
    "#fig.savefig(\"/home/omar/Documents/Tumorhisto.jpg\")"
   ]
  },
  {
   "cell_type": "code",
   "execution_count": null,
   "metadata": {},
   "outputs": [],
   "source": [
    "#HGG\n",
    "#segres = sitk.ReadImage('/home/omar/Documents/thesis-datasets/MICCAI_BraTS_2018_Data_Training/HGG/Brats18_CBICA_AYA_1/Brats18_CBICA_AYA_1_seg.nii.gz')\n",
    "#segres = sitk.ReadImage('/home/omar/Documents/thesis-datasets/MICCAI_BraTS_2018_Data_Training/HGG/Brats18_CBICA_AAB_1/Brats18_CBICA_AAB_1_seg.nii.gz')\n",
    "#segres = sitk.ReadImage('/home/omar/Documents/thesis-datasets/MICCAI_BraTS_2018_Data_Training/HGG/Brats18_CBICA_AAG_1/Brats18_CBICA_AAG_1_seg.nii.gz')\n",
    "#segres = sitk.ReadImage('/home/omar/Documents/thesis-datasets/MICCAI_BraTS_2018_Data_Training/HGG/Brats18_CBICA_AAL_1/Brats18_CBICA_AAL_1_seg.nii.gz')\n",
    "#segres = sitk.ReadImage('/home/omar/Documents/thesis-datasets/MICCAI_BraTS_2018_Data_Training/HGG/Brats18_CBICA_AAP_1/Brats18_CBICA_AAP_1_seg.nii.gz')\n",
    "#segres = sitk.ReadImage('/home/omar/Documents/thesis-datasets/MICCAI_BraTS_2018_Data_Training/HGG/Brats18_CBICA_ABB_1/Brats18_CBICA_ABB_1_seg.nii.gz')\n",
    "#segres = sitk.ReadImage('/home/omar/Documents/thesis-datasets/MICCAI_BraTS_2018_Data_Training/HGG/Brats18_CBICA_ABE_1/Brats18_CBICA_ABE_1_seg.nii.gz')\n",
    "#segres = sitk.ReadImage('/home/omar/Documents/thesis-datasets/MICCAI_BraTS_2018_Data_Training/HGG/Brats18_CBICA_ABO_1/Brats18_CBICA_ABO_1_seg.nii.gz')\n",
    "#segres = sitk.ReadImage('/home/omar/Documents/thesis-datasets/MICCAI_BraTS_2018_Data_Training/HGG/Brats18_CBICA_ALU_1/Brats18_CBICA_ALU_1_seg.nii.gz')\n",
    "#LGG\n",
    "#segres = sitk.ReadImage('/home/omar/Documents/thesis-datasets/MICCAI_BraTS_2018_Data_Training/LGG/Brats18_TCIA10_109_1/Brats18_TCIA10_109_1_seg.nii.gz')\n",
    "#segres = sitk.ReadImage('/home/omar/Documents/thesis-datasets/MICCAI_BraTS_2018_Data_Training/LGG/Brats18_TCIA09_254_1/Brats18_TCIA09_254_1_seg.nii.gz')\n",
    "#segres = sitk.ReadImage('/home/omar/Documents/thesis-datasets/MICCAI_BraTS_2018_Data_Training/LGG/Brats18_TCIA09_255_1/Brats18_TCIA09_255_1_seg.nii.gz')\n",
    "segres = sitk.ReadImage('/home/omar/Documents/thesis-datasets/MICCAI_BraTS_2018_Data_Training/LGG/Brats18_TCIA09_312_1/Brats18_TCIA09_312_1_seg.nii.gz')\n",
    "#segres = sitk.ReadImage('/home/omar/Documents/thesis-datasets/MICCAI_BraTS_2018_Data_Training/LGG/Brats18_TCIA09_402_1/Brats18_TCIA09_402_1_seg.nii.gz')\n",
    "#segres = sitk.ReadImage('/home/omar/Documents/thesis-datasets/MICCAI_BraTS_2018_Data_Training/LGG/Brats18_TCIA09_428_1/Brats18_TCIA09_428_1_seg.nii.gz')\n",
    "#segres = sitk.ReadImage('/home/omar/Documents/thesis-datasets/MICCAI_BraTS_2018_Data_Training/LGG/Brats18_TCIA09_451_1/Brats18_TCIA09_451_1_seg.nii.gz')\n",
    "#segres = sitk.ReadImage('/home/omar/Documents/thesis-datasets/MICCAI_BraTS_2018_Data_Training/LGG/Brats18_TCIA09_462_1/Brats18_TCIA09_462_1_seg.nii.gz')\n",
    "#segres = sitk.ReadImage('/home/omar/Documents/thesis-datasets/MICCAI_BraTS_2018_Data_Training/LGG/Brats18_TCIA09_493_1/Brats18_TCIA09_493_1_seg.nii.gz')\n",
    "#segres = sitk.ReadImage('/home/omar/Documents/thesis-datasets/MICCAI_BraTS_2018_Data_Training/LGG/Brats18_TCIA09_620_1/Brats18_TCIA09_620_1_seg.nii.gz')\n",
    "\n",
    "\n",
    "#segres = sitk.ReadImage('/home/omar/Documents/thesis-datasets/MICCAI_BraTS_2018_Data_Training/HGG/Brats18_CBICA_BHM_1/Brats18_CBICA_BHM_1_seg.nii.gz')\n",
    "segres = segres[:,:,idxSlice]\n",
    "segarr = sitk.GetArrayFromImage(segres)\n",
    "segarreshap = segarr.flatten()\n",
    "myshow(segres)"
   ]
  },
  {
   "cell_type": "code",
   "execution_count": null,
   "metadata": {},
   "outputs": [],
   "source": [
    "#impre = imageio.imread('/home/omar/Documents/thesis-datasets/MICCAI_BraTS_2018_Data_Training/HGG/Brats18_CBICA_BHM_1/outputflair/image-slice077.jpg')\n",
    "#plt.imshow(impre)"
   ]
  },
  {
   "cell_type": "code",
   "execution_count": null,
   "metadata": {
    "scrolled": true
   },
   "outputs": [],
   "source": [
    "#test with rgb image\n",
    "#im = imageio.imread('/home/omar/Documents/thesis-datasets/MICCAI_BraTS_2018_Data_Validation/Brats18_CBICA_AAM_1/out/image-slice100.jpg')\n",
    "#im = imageio.imread('/home/omar/Documents/thesis-datasets/MICCAI_BraTS_2018_Data_Validation/Brats18_CBICA_AAM_1/Brats18_CBICA_AAM_1_flair.nii')\n",
    "#im = imageio.imread('/home/omar/Documents/thesis-datasets/Axialviewsfind/2-AX FLAIR-21408/slice-slice007.jpg')\n",
    "#imseg = imageio.imread('/home/omar/Documents/thesis-datasets/MICCAI_BraTS_2018_Data_Training/HGG/Brats18_CBICA_BHM_1/out/image-slice077.jpg')\n",
    "#im = im[idxSlice,:,:]\n",
    "##imbrats = sitk.ReadImage('/home/omar/Documents/thesis-datasets/MICCAI_BraTS_2018_Data_Training/HGG/Brats18_CBICA_BHM_1/outputflair/image-slice077.jpg')\n",
    "##imbratarr = sitk.GetArrayFromImage(imbrats)\n",
    "##plt.imshow(imbrats)\n",
    "##imbrats.shape\n",
    "#myshow(imbrats)"
   ]
  },
  {
   "cell_type": "code",
   "execution_count": null,
   "metadata": {},
   "outputs": [],
   "source": []
  },
  {
   "cell_type": "code",
   "execution_count": null,
   "metadata": {},
   "outputs": [],
   "source": [
    "ig = plt.figure()\n",
    "plt.hist(fl_res.flatten(), bins=100)\n",
    "plt.title('Tumor histogram prior to clustering')\n",
    "plt.show()"
   ]
  },
  {
   "cell_type": "code",
   "execution_count": 9,
   "metadata": {},
   "outputs": [],
   "source": [
    "#convert into columns of color\n",
    "MAX_NUM_SAMPLES = int(os.environ.get('MAX_NUM_SAMPLES', 5000))\n",
    "image_cols = fl_res.reshape(-1,3)\n",
    "#image_cols = strarr.reshape(-1,3)\n",
    "#image_cols = normaltest.reshape(-1,3)\n",
    "#image_cols = fl_resnorm.reshape(-1,3)\n",
    "subsample_image_cols = image_cols.copy()\n",
    "# TODO this can be optimised if needed\n",
    "np.random.shuffle(subsample_image_cols)\n",
    "subsample_image_cols = subsample_image_cols[:MAX_NUM_SAMPLES, :]"
   ]
  },
  {
   "cell_type": "code",
   "execution_count": 10,
   "metadata": {},
   "outputs": [
    {
     "data": {
      "text/plain": [
       "(19200, 3)"
      ]
     },
     "execution_count": 10,
     "metadata": {},
     "output_type": "execute_result"
    }
   ],
   "source": [
    "image_cols.shape\n"
   ]
  },
  {
   "cell_type": "code",
   "execution_count": null,
   "metadata": {},
   "outputs": [],
   "source": [
    "image_colsres = image_cols.reshape(fl_res.shape)\n",
    "image_colsres.shape"
   ]
  },
  {
   "cell_type": "code",
   "execution_count": null,
   "metadata": {},
   "outputs": [],
   "source": [
    "image_cols"
   ]
  },
  {
   "cell_type": "code",
   "execution_count": null,
   "metadata": {},
   "outputs": [],
   "source": [
    "#thresholding using opencv2\n",
    "#hdbreread= sitk.GetImageFromArray(fl_resnorm)\n",
    "#img = cv2.medianBlur(fl_resnorm,5).astype('uint8')\n",
    "#img = cv2.medianBlur(fl_res,5).astype('uint8')\n",
    "#img = cv2.medianBlur(segmented_image,5).astype('uint8')\n",
    "#img = cv2.medianBlur(dbsegmented_image,5).astype('uint8')\n",
    "img = cv2.medianBlur(image_colsres,5).astype('uint8')\n",
    "#img = segmented_image.astype('uint8')\n",
    "#global thresh 160\n",
    "\n",
    "threshval = 150\n",
    "th1 = cv2.threshold(img,threshval,255,cv2.THRESH_BINARY)[1]\n",
    "\n",
    "\n",
    "#adaptive thresh\n",
    "#th2 = cv2.adaptiveThreshold(img,255,cv2.ADAPTIVE_THRESH_MEAN_C,\\\n",
    "#            cv2.THRESH_BINARY,11,2)\n",
    "#adaptive gaussian\n",
    "#th3 = cv2.adaptiveThreshold(img,255,cv2.ADAPTIVE_THRESH_GAUSSIAN_C,\\\n",
    "#            cv2.THRESH_BINARY,11,2)\n",
    "\n",
    "#titles = ['Original Image', 'Global Thresholding (v = 127)',\n",
    "#            'Adaptive Mean Thresholding', 'Adaptive Gaussian Thresholding']\n",
    "#images = [img, th1, th2, th3]\n",
    "\n",
    "#for i in range(4):\n",
    "#    plt.subplot(2,2,i+1),plt.imshow(images[i],'gray')\n",
    "#    plt.title(titles[i])\n",
    "#    plt.xticks([]),plt.yticks([])\n",
    "plt.title('Threshold prior to hdbscan')\n",
    "plt.xticks([]),plt.yticks([])\n",
    "plt.imshow(th1,'gray')\n"
   ]
  },
  {
   "cell_type": "code",
   "execution_count": null,
   "metadata": {},
   "outputs": [],
   "source": [
    "th1flatt = th1.flatten()"
   ]
  },
  {
   "cell_type": "code",
   "execution_count": null,
   "metadata": {},
   "outputs": [],
   "source": [
    "th1res = th1.reshape(-1,3)"
   ]
  },
  {
   "cell_type": "code",
   "execution_count": null,
   "metadata": {},
   "outputs": [],
   "source": [
    "#with open('/home/omar/Desktop/cminitialtumorhdbscan','w') as f:\n",
    "cmth = ConfusionMatrix(segarreshap,th1flatt)\n",
    "print(cmth.print_stats())\n",
    "#print(cm.print_stats(),file=f)\n",
    "#if th1.all() == masknorm.all():\n",
    "#   print('ventricles are highlighted')"
   ]
  },
  {
   "cell_type": "code",
   "execution_count": null,
   "metadata": {},
   "outputs": [],
   "source": [
    "# Group similar grey levels using 8 clusters\n",
    "kmeanstime = time.time()\n",
    "X = image_cols.reshape(-1,1)\n",
    "#X = image_cols\n",
    "k_m = cluster.KMeans(n_clusters=5, n_init= 30)\n",
    "\n",
    "km_predict=k_m.fit(X)\n",
    "kmeans_elapsed_time = time.time() - kmeanstime\n",
    "    \n",
    "values = k_m.cluster_centers_.squeeze()\n",
    "labels = k_m.labels_\n",
    "\n",
    "#values, labels = km_clust(img_array, n_clusters = 3)\n",
    "\n",
    "# Create the segmented array from labels and values\n",
    "img_segm = np.choose(labels, values)\n",
    "# Reshape the array as the original image\n",
    "img_segm.shape= fl_res.shape"
   ]
  },
  {
   "cell_type": "code",
   "execution_count": null,
   "metadata": {},
   "outputs": [],
   "source": [
    "img_segm"
   ]
  },
  {
   "cell_type": "code",
   "execution_count": null,
   "metadata": {},
   "outputs": [],
   "source": [
    "segarreshap"
   ]
  },
  {
   "cell_type": "code",
   "execution_count": null,
   "metadata": {},
   "outputs": [],
   "source": [
    "#flatten segmented image for metrics\n",
    "img_segmflat = img_segm.flatten().astype(np.uint8)\n",
    "#print(img_segmflat)\n",
    "\n",
    "vmin = image_cols.min()\n",
    "vmax = image_cols.max()"
   ]
  },
  {
   "cell_type": "code",
   "execution_count": null,
   "metadata": {},
   "outputs": [],
   "source": [
    "fig = plt.figure(1)\n",
    "# Plot the original image\n",
    "ax1 = fig.add_subplot(1,2,1)\n",
    "ax1.imshow(fl_res,cmap=plt.cm.gray,vmin=vmin,vmax=vmax)\n",
    "ax1.set_title('Original image')\n",
    "\n",
    "# Plot the simplified color image\n",
    "ax2 = fig.add_subplot(1,2,2)\n",
    "ax2.imshow(img_segm,cmap=plt.cm.gray,vmin=vmin, vmax=vmax)\n",
    "ax2.set_title('Simplified levels')\n",
    "#plt.savefig(\"/home/omar/Documents/kmeanseg.jpg\")\n",
    "\n",
    "# Get rid of the tick labels\n",
    "ax1.set_xticklabels([])\n",
    "ax1.set_yticklabels([])\n",
    "ax2.set_xticklabels([])\n",
    "ax2.set_yticklabels([])\n",
    "\n",
    "\n",
    "plt.show()"
   ]
  },
  {
   "cell_type": "code",
   "execution_count": null,
   "metadata": {},
   "outputs": [],
   "source": [
    "#Kmeans results\n",
    "print('\\n\\n++ Kmeans Results')\n",
    "#print('Number of clusters: ', number_of_clusters)\n",
    "#print('Numer of iterations: ' % n_init) # number of iterations to run with different centroid seeds.\n",
    "print('Elapsed time to cluster: %.4f s'% kmeans_elapsed_time)\n",
    "print('F1score: ', metrics.f1_score(segarreshap, img_segmflat, average='weighted'))\n",
    "print('Accuracy score: ' ,metrics.accuracy_score(segarreshap,img_segmflat)) #sklearn accuracy\n",
    "print('Accuracy score: ' ,accuracy(segarreshap,img_segmflat))\n",
    "print('Homogeneity score: ', metrics.homogeneity_score(segarreshap,img_segmflat))\n",
    "print('Rand score: ' , metrics.adjusted_rand_score(segarreshap,img_segmflat))\n",
    "print('VMeasure: ' , metrics.v_measure_score(segarreshap,img_segmflat))\n",
    "print('Normalized mutual info score: ', metrics.normalized_mutual_info_score(segarreshap,img_segmflat))"
   ]
  },
  {
   "cell_type": "code",
   "execution_count": null,
   "metadata": {},
   "outputs": [],
   "source": [
    "#DBscan\n",
    "from sklearn.cluster import DBSCAN\n",
    "dbtime=time.time()\n",
    "db = DBSCAN(eps=10, min_samples=20,metric='euclidean')\n",
    "dbf = db.fit(image_cols)\n",
    "db_elapsed_time = time.time() - dbtime\n",
    "core_samples_mask = np.zeros_like(dbf.labels_, dtype=bool)\n",
    "core_samples_mask[dbf.core_sample_indices_] = True\n",
    "dblabels = dbf.labels_\n",
    "\n",
    "# Number of clusters in labels, ignoring noise if present.\n",
    "n_clusters_ = len(set(dblabels)) - (1 if -1 in dblabels else 0)\n",
    "n_noise_ = list(dblabels).count(-1)"
   ]
  },
  {
   "cell_type": "code",
   "execution_count": null,
   "metadata": {},
   "outputs": [],
   "source": [
    "n_noise_"
   ]
  },
  {
   "cell_type": "code",
   "execution_count": null,
   "metadata": {},
   "outputs": [],
   "source": [
    "#dblabels.astype(np.int32)"
   ]
  },
  {
   "cell_type": "code",
   "execution_count": null,
   "metadata": {},
   "outputs": [],
   "source": [
    "number_of_clusters = np.max(db.labels_) + 1"
   ]
  },
  {
   "cell_type": "code",
   "execution_count": null,
   "metadata": {},
   "outputs": [],
   "source": [
    "n_clusters_"
   ]
  },
  {
   "cell_type": "code",
   "execution_count": null,
   "metadata": {},
   "outputs": [],
   "source": [
    "centers = np.zeros((number_of_clusters, 3))\n",
    "\n",
    "for i in range(0, number_of_clusters):\n",
    "    cluster_points = image_cols[dblabels == i]\n",
    "    cluster_mean = np.mean(cluster_points, axis=0)\n",
    "    centers[i, :] = cluster_mean"
   ]
  },
  {
   "cell_type": "code",
   "execution_count": null,
   "metadata": {
    "scrolled": true
   },
   "outputs": [],
   "source": [
    "centers"
   ]
  },
  {
   "cell_type": "code",
   "execution_count": null,
   "metadata": {
    "scrolled": true
   },
   "outputs": [],
   "source": [
    "point_distances = cdist(centers,image_cols,'euclidean')\n",
    "cluster_indexes = np.argmin(point_distances, axis=0)\n",
    "segmented = centers[cluster_indexes]"
   ]
  },
  {
   "cell_type": "code",
   "execution_count": null,
   "metadata": {},
   "outputs": [],
   "source": [
    "#segmented = segmented.astype(np.float32)\n",
    "segmented_image = segmented.reshape(normaltest.shape).astype(np.uint8)\n",
    "segmented_image.shape\n",
    "#mask = segmented_image > 180\n",
    "#segmented_image[mask]=255"
   ]
  },
  {
   "cell_type": "code",
   "execution_count": null,
   "metadata": {},
   "outputs": [],
   "source": [
    "dblabels.shape"
   ]
  },
  {
   "cell_type": "code",
   "execution_count": null,
   "metadata": {
    "scrolled": true
   },
   "outputs": [],
   "source": [
    "#test= sitk.GetImageFromArray(segmented_image)\n",
    "#plt.grid(None)\n",
    "plt.imshow(segmented_image,interpolation=\"nearest\",cmap=plt.cm.gray)\n",
    "plt.colorbar()\n",
    "plt.savefig(\"/home/omar/Documents/Results/normalbrain/normalbraindbscan.jpg\")"
   ]
  },
  {
   "cell_type": "code",
   "execution_count": null,
   "metadata": {},
   "outputs": [],
   "source": [
    "dbscanflat = segmented_image.flatten()"
   ]
  },
  {
   "cell_type": "code",
   "execution_count": null,
   "metadata": {},
   "outputs": [],
   "source": [
    "#dbscan results\n",
    "print('\\n\\n++ DBscan Results')\n",
    "print('Number of clusters: ', number_of_clusters)\n",
    "#print('Numer of iterations: ' % n_init) # number of iterations to run with different centroid seeds.\n",
    "print('Elapsed time to cluster: %.4f s'% db_elapsed_time)\n",
    "print('F1score: ', metrics.f1_score(segarreshap, dbscanflat, average='weighted'))\n",
    "print('Accuracy score: ' ,metrics.accuracy_score(segarreshap,dbscanflat))\n",
    "print('Accuracy score: ' ,accuracy(segarreshap,img_segmflat))\n",
    "print('Homogeneity score: ', metrics.homogeneity_score(segarreshap,dbscanflat))\n",
    "print('Rand score: ' , metrics.adjusted_rand_score(segarreshap,dbscanflat))\n",
    "print('VMeasure: ' , metrics.v_measure_score(segarreshap,dbscanflat))\n",
    "print('Normalized mutual info score: ', metrics.normalized_mutual_info_score(segarreshap,dbscanflat))\n",
    "\n",
    "print('\\n\\n++ DBscan Internal Indices Results')\n",
    "print('Calinski harabasz score: ',metrics.calinski_harabasz_score(image_cols, dblabels))\n",
    "print('Silhouette score: ' ,metrics.silhouette_score(image_cols,dblabels))\n",
    "print('Davies-Bouldin score: ',metrics.davies_bouldin_score(image_cols,dblabels))\n"
   ]
  },
  {
   "cell_type": "code",
   "execution_count": null,
   "metadata": {},
   "outputs": [],
   "source": [
    "plt.figure()\n",
    "plt.hist(segmented_image.flatten(), bins=100)\n",
    "plt.title('Histogram after dbscan')\n",
    "plt.show()"
   ]
  },
  {
   "cell_type": "code",
   "execution_count": null,
   "metadata": {
    "scrolled": true
   },
   "outputs": [],
   "source": [
    "unique_labels = set(dblabels)\n",
    "colors = [plt.cm.Spectral(each)\n",
    "          for each in np.linspace(0, 1, len(unique_labels))]\n",
    "for k, col in zip(unique_labels, colors):\n",
    "    if k == -1:\n",
    "        # Black used for noise.\n",
    "        col = [0, 0, 0, 1]\n",
    "\n",
    "    class_member_mask = (dblabels == k)\n",
    "\n",
    "    xy = image_cols[class_member_mask & core_samples_mask]\n",
    "    plt.plot(xy[:, 0], xy[:, 1], 'o', markerfacecolor=tuple(col),\n",
    "             markeredgecolor='k', markersize=14)\n",
    "\n",
    "    xy = image_cols[class_member_mask & ~core_samples_mask]\n",
    "    plt.plot(xy[:, 0], xy[:, 1], 'o', markerfacecolor=tuple(col),\n",
    "             markeredgecolor='k', markersize=6)\n",
    "\n",
    "plt.title('Estimated number of clusters: %d' % n_clusters_)\n",
    "plt.show()"
   ]
  },
  {
   "cell_type": "code",
   "execution_count": null,
   "metadata": {},
   "outputs": [],
   "source": [
    "segmented.dtype"
   ]
  },
  {
   "cell_type": "code",
   "execution_count": null,
   "metadata": {},
   "outputs": [],
   "source": [
    "#image_colsv = image_cols.reshape(-1,2)\n",
    "#image_colsv.shape"
   ]
  },
  {
   "cell_type": "code",
   "execution_count": null,
   "metadata": {},
   "outputs": [],
   "source": [
    "#hdbscan\n",
    "hdbtime=time.time()\n",
    "hdscan = hdbs.HDBSCAN(min_cluster_size = 30, min_samples=None,gen_min_span_tree=True,approx_min_span_tree=True) #,metric='dice') #.fit(img_arrayint)\n",
    "hdscan.fit(image_cols)\n",
    "#hdscan.fit(th1res)\n",
    "hdb_elapsed_time = time.time() - hdbtime\n",
    "r = hdscan.labels_\n",
    "db_n_noise_ = list(r).count(-1)"
   ]
  },
  {
   "cell_type": "code",
   "execution_count": null,
   "metadata": {},
   "outputs": [],
   "source": [
    "#hdscan.minimum_spanning_tree_.plot(edge_cmap='viridis',edge_alpha=0.6,node_size=10,edge_linewidth=2)"
   ]
  },
  {
   "cell_type": "code",
   "execution_count": null,
   "metadata": {},
   "outputs": [],
   "source": [
    "#hdscan.single_linkage_tree_.plot(cmap='viridis', colorbar=True)\n",
    "hdscan.condensed_tree_.plot(cmap='viridis',select_clusters=True, selection_palette=sns.color_palette())"
   ]
  },
  {
   "cell_type": "code",
   "execution_count": null,
   "metadata": {},
   "outputs": [],
   "source": [
    "dbnumber_of_clusters = np.max(r) + 1\n",
    "db_n_noise_"
   ]
  },
  {
   "cell_type": "code",
   "execution_count": null,
   "metadata": {},
   "outputs": [],
   "source": [
    "#0-26\n",
    "#hdscan.labels_.max()\n"
   ]
  },
  {
   "cell_type": "code",
   "execution_count": null,
   "metadata": {},
   "outputs": [],
   "source": [
    "#hdscan.exemplars_\n",
    "hdscan.relative_validity_"
   ]
  },
  {
   "cell_type": "code",
   "execution_count": null,
   "metadata": {},
   "outputs": [],
   "source": [
    "dbnumber_of_clusters"
   ]
  },
  {
   "cell_type": "code",
   "execution_count": null,
   "metadata": {},
   "outputs": [],
   "source": [
    "dbcenters = np.zeros((dbnumber_of_clusters, 3))\n",
    "\n",
    "for i in range(0, dbnumber_of_clusters):\n",
    "    dbcluster_points = image_cols[r == i]\n",
    "    #dbcluster_points = th1res[r == i]\n",
    "    dbcluster_mean = np.mean(dbcluster_points, axis=0)\n",
    "    dbcenters[i, :] = dbcluster_mean\n",
    "\n"
   ]
  },
  {
   "cell_type": "code",
   "execution_count": null,
   "metadata": {},
   "outputs": [],
   "source": [
    "dbcenters"
   ]
  },
  {
   "cell_type": "code",
   "execution_count": null,
   "metadata": {},
   "outputs": [],
   "source": [
    "dbcenters.shape"
   ]
  },
  {
   "cell_type": "code",
   "execution_count": null,
   "metadata": {},
   "outputs": [],
   "source": [
    "dbpoint_distances = cdist(dbcenters,image_cols,'euclidean')\n",
    "#dbpoint_distances = cdist(dbcenters,th1res,'euclidean')\n",
    "dbcluster_indexes = np.argmin(dbpoint_distances, axis=0)\n",
    "dbsegmented = dbcenters[dbcluster_indexes]"
   ]
  },
  {
   "cell_type": "code",
   "execution_count": null,
   "metadata": {},
   "outputs": [],
   "source": [
    "dbsegmented.shape\n",
    "dbsegmented_image = dbsegmented.reshape(fl_res.shape).astype(np.uint8)"
   ]
  },
  {
   "cell_type": "code",
   "execution_count": null,
   "metadata": {},
   "outputs": [],
   "source": [
    "plt.imshow(dbsegmented_image,interpolation=\"nearest\",cmap=plt.cm.gray)\n",
    "#plt.grid(None)\n",
    "plt.title('Reconstructed image after HDBscan')\n",
    "plt.colorbar()\n",
    "#plt.savefig(\"/home/omar/Documents/Results/normalbrain/normalbrainhdbscan.jpg\")"
   ]
  },
  {
   "cell_type": "code",
   "execution_count": null,
   "metadata": {},
   "outputs": [],
   "source": [
    "dbsegmented_image.shape"
   ]
  },
  {
   "cell_type": "code",
   "execution_count": null,
   "metadata": {
    "scrolled": true
   },
   "outputs": [],
   "source": [
    "plt.figure()\n",
    "histvals = plt.hist(dbsegmented_image.flatten(), bins=100)\n",
    "plt.title('Histogram after hdbscan')\n",
    "plt.show()"
   ]
  },
  {
   "cell_type": "code",
   "execution_count": null,
   "metadata": {},
   "outputs": [],
   "source": [
    "dbflat=dbsegmented_image.flatten()\n",
    "from sklearn.metrics import confusion_matrix"
   ]
  },
  {
   "cell_type": "code",
   "execution_count": null,
   "metadata": {
    "scrolled": false
   },
   "outputs": [],
   "source": [
    "from pandas_ml import ConfusionMatrix\n",
    "#with open('/home/omar/Desktop/cminitialtumorhdbscan','w') as f:\n",
    "cm = ConfusionMatrix(segarreshap,dbflat)\n",
    "print(cm.print_stats())\n",
    "#print(cm.print_stats(),file=f)"
   ]
  },
  {
   "cell_type": "code",
   "execution_count": null,
   "metadata": {},
   "outputs": [],
   "source": [
    "#hdbscan results\n",
    "print('\\n\\n++ Hdbscan Results')\n",
    "print('Number of clusters: ', dbnumber_of_clusters)\n",
    "#print('Numer of iterations: ' % n_init) # number of iterations to run with different centroid seeds.\n",
    "print('Elapsed time to cluster: %.4f s'% hdb_elapsed_time)\n",
    "print('F1score: ', metrics.f1_score(segarreshap, dbflat, average = 'weighted'))\n",
    "print('Accuracy score: ', metrics.accuracy_score(segarreshap,dbflat))\n",
    "print('Accuracy score: ' ,accuracy(segarreshap,img_segmflat))\n",
    "print('Homogeneity score: ', metrics.homogeneity_score(segarreshap,dbflat))\n",
    "print('Rand score: ' , metrics.adjusted_rand_score(segarreshap,dbflat))\n",
    "print('VMeasure: ' , metrics.v_measure_score(segarreshap,dbflat))\n",
    "print('Normalized mutual info score: ', metrics.normalized_mutual_info_score(segarreshap,dbflat))\n",
    "\n",
    "print('\\n\\n++ Hdbscan Internal Indices Results')\n",
    "print('Calinski harabasz score: ',metrics.calinski_harabasz_score(image_cols, r))\n",
    "print('Silhouette score: ' ,metrics.silhouette_score(image_cols,r))\n",
    "print('Davies-Bouldin score: ',metrics.davies_bouldin_score(image_cols,r))\n",
    "\n",
    "#print(classification_report(segarreshap,dbflat,labels=r))\n",
    "print (confusion_matrix(segarreshap,dbflat))"
   ]
  },
  {
   "cell_type": "code",
   "execution_count": null,
   "metadata": {},
   "outputs": [],
   "source": []
  },
  {
   "cell_type": "code",
   "execution_count": null,
   "metadata": {},
   "outputs": [],
   "source": [
    "#hierarchial clustering (agglomerative ward)\n",
    "from sklearn.cluster import AgglomerativeClustering\n",
    "agglotime=time.time()\n",
    "#connectivity = grid_to_graph(*image_cols.shape[:2])\n",
    "warclus = AgglomerativeClustering(n_clusters=6, affinity='euclidean', linkage='ward')  \n",
    "agglopredict = warclus.fit(image_cols)\n",
    "agglo_elapsed_time = time.time() - agglotime\n",
    "wardlab = warclus.labels_"
   ]
  },
  {
   "cell_type": "code",
   "execution_count": null,
   "metadata": {},
   "outputs": [],
   "source": [
    "agglonumber_of_clusters = len(np.unique(warclus.labels_))"
   ]
  },
  {
   "cell_type": "code",
   "execution_count": null,
   "metadata": {},
   "outputs": [],
   "source": [
    "agglonumber_of_clusters"
   ]
  },
  {
   "cell_type": "code",
   "execution_count": null,
   "metadata": {},
   "outputs": [],
   "source": [
    "agglocenters = np.zeros((agglonumber_of_clusters, 3))\n",
    "\n",
    "for i in range(0, agglonumber_of_clusters):\n",
    "    agglocluster_points = image_cols[wardlab == i]\n",
    "    agglocluster_mean = np.mean(agglocluster_points, axis=0)\n",
    "    agglocenters[i, :] = agglocluster_mean"
   ]
  },
  {
   "cell_type": "code",
   "execution_count": null,
   "metadata": {},
   "outputs": [],
   "source": [
    "agglosegmented = agglocenters[wardlab]\n",
    "agglosegmented_image = agglosegmented.reshape(normaltest.shape).astype(np.uint8)\n",
    "plt.imshow(agglosegmented_image, cmap=plt.cm.gray)\n",
    "plt.colorbar()\n",
    "plt.savefig(\"/home/omar/Documents/Results/normalbrain/normalbrainaggloscan.jpg\")"
   ]
  },
  {
   "cell_type": "code",
   "execution_count": null,
   "metadata": {},
   "outputs": [],
   "source": [
    "aggloflat = agglosegmented_image.flatten()"
   ]
  },
  {
   "cell_type": "code",
   "execution_count": null,
   "metadata": {
    "scrolled": true
   },
   "outputs": [],
   "source": [
    "#agglo results\n",
    "print('\\n\\n++ Agglo Results')\n",
    "print('Number of clusters: ', agglonumber_of_clusters)\n",
    "#print('Numer of iterations: ' % n_init) # number of iterations to run with different centroid seeds.\n",
    "print('Elapsed time to cluster: %.4f s'% agglo_elapsed_time)\n",
    "print('F1score: ', metrics.f1_score(segarreshap, aggloflat, average = 'weighted'))\n",
    "print('Accuracy score: ', metrics.accuracy_score(segarreshap,aggloflat))\n",
    "print('Accuracy score: ' ,accuracy(segarreshap,aggloflat))\n",
    "print('Homogeneity score: ', metrics.homogeneity_score(segarreshap,aggloflat))\n",
    "print('Rand score: ' , metrics.adjusted_rand_score(segarreshap,aggloflat))\n",
    "print('VMeasure: ' , metrics.v_measure_score(segarreshap,aggloflat))\n",
    "print('Normalized mutual info score: ', metrics.normalized_mutual_info_score(segarreshap,aggloflat))\n",
    "\n",
    "print('\\n\\n++ Agglo Internal Indices Results')\n",
    "print('Calinski harabasz score: ',metrics.calinski_harabasz_score(image_cols, warclus.labels_))\n",
    "print('Silhouette score: ' ,metrics.silhouette_score(image_cols,warclus.labels_))\n",
    "print('Davies-Bouldin score: ',metrics.davies_bouldin_score(image_cols,warclus.labels_))\n"
   ]
  },
  {
   "cell_type": "code",
   "execution_count": null,
   "metadata": {},
   "outputs": [],
   "source": [
    "plt.figure()\n",
    "plt.hist(agglosegmented_image, bins=100)\n",
    "plt.title('Histogram after agglomerative clustering')\n",
    "plt.show()"
   ]
  },
  {
   "cell_type": "code",
   "execution_count": null,
   "metadata": {},
   "outputs": [],
   "source": [
    "#Mean shift\n",
    "from sklearn.cluster import estimate_bandwidth,MeanShift\n",
    "bandwidth = estimate_bandwidth(image_cols, quantile=0.7, n_samples=None)\n",
    "print (bandwidth)\n",
    "meantime=time.time()\n",
    "ms = MeanShift(bandwidth=bandwidth, bin_seeding=True, min_bin_freq=1, cluster_all=False)\n",
    "ms.fit(image_cols)\n",
    "mean_elapsed_time = time.time() - meantime\n",
    "meannumber_of_clusters = len(np.unique(ms.labels_))"
   ]
  },
  {
   "cell_type": "code",
   "execution_count": null,
   "metadata": {},
   "outputs": [],
   "source": [
    "ms_centers = ms.cluster_centers_\n",
    "ms_labels = ms.labels_"
   ]
  },
  {
   "cell_type": "code",
   "execution_count": null,
   "metadata": {},
   "outputs": [],
   "source": [
    "mssegmented = ms_centers[ms_labels]\n",
    "mssegmented_image = mssegmented.reshape(normaltest.shape).astype(np.uint8)\n",
    "plt.imshow(mssegmented_image, cmap=plt.cm.gray)\n",
    "plt.colorbar()\n",
    "plt.savefig(\"/home/omar/Documents/Results/normalbrain/normalbrainmeanshift.jpg\")"
   ]
  },
  {
   "cell_type": "code",
   "execution_count": null,
   "metadata": {},
   "outputs": [],
   "source": [
    "msflat = mssegmented_image.flatten()"
   ]
  },
  {
   "cell_type": "code",
   "execution_count": null,
   "metadata": {},
   "outputs": [],
   "source": [
    "#MS results\n",
    "print('\\n\\n++ Meanshift Results')\n",
    "print('Number of clusters: ', agglonumber_of_clusters)\n",
    "#print('Numer of iterations: ' % n_init) # number of iterations to run with different centroid seeds.\n",
    "print('Elapsed time to cluster: %.4f s'% agglo_elapsed_time)\n",
    "print('F1score: ', metrics.f1_score(segarreshap, msflat, average = 'weighted'))\n",
    "print('Accuracy score: ', metrics.accuracy_score(segarreshap,msflat))\n",
    "print('Accuracy score: ' ,accuracy(segarreshap,msflat))\n",
    "print('Homogeneity score: ', metrics.homogeneity_score(segarreshap,msflat))\n",
    "print('Rand score: ' , metrics.adjusted_rand_score(segarreshap,msflat))\n",
    "print('VMeasure: ' , metrics.v_measure_score(segarreshap,msflat))\n",
    "print('Normalized mutual info score: ', metrics.normalized_mutual_info_score(segarreshap,msflat))\n",
    "\n",
    "print('\\n\\n++ Meanshift Internal Indices Results')\n",
    "print('Calinski harabasz score: ',metrics.calinski_harabasz_score(image_cols, ms_labels))\n",
    "print('Silhouette score: ' ,metrics.silhouette_score(image_cols,ms_labels))\n",
    "print('Davies-Bouldin score: ',metrics.davies_bouldin_score(image_cols,ms_labels))\n"
   ]
  },
  {
   "cell_type": "code",
   "execution_count": 31,
   "metadata": {},
   "outputs": [
    {
     "data": {
      "text/plain": [
       "(240, 240)"
      ]
     },
     "execution_count": 31,
     "metadata": {},
     "output_type": "execute_result"
    }
   ],
   "source": [
    "image_colsres = image_cols.reshape(fl_res.shape)\n",
    "#image_cols.reshape(-1,2)\n",
    "#reshape(-1,2)\n",
    "image_colsres.shape"
   ]
  },
  {
   "cell_type": "code",
   "execution_count": null,
   "metadata": {},
   "outputs": [],
   "source": [
    "image_colsres"
   ]
  },
  {
   "cell_type": "code",
   "execution_count": 11,
   "metadata": {},
   "outputs": [],
   "source": [
    "def plot_clusters(data, algorithm, args, kwds):\n",
    "    start_time = time.time()\n",
    "    labels = algorithm(*args, **kwds).fit_predict(data)\n",
    "    end_time = time.time()\n",
    "    palette = sns.color_palette('deep', np.unique(labels).max() + 1)\n",
    "    colors = [palette[x] if x >= 0 else (0.0, 0.0, 0.0) for x in labels]\n",
    "    #plt.scatter(image_colsres, data, c=colors, **plot_kwds)\n",
    "    plt.scatter(data.T[0], data.T[1], c=colors, **plot_kwds)\n",
    "    frame = plt.gca()\n",
    "    frame.axes.get_xaxis().set_visible(False)\n",
    "    frame.axes.get_yaxis().set_visible(False)\n",
    "    plt.title('Clusters found by {}'.format(str(algorithm.__name__)), fontsize=24)\n",
    "    plt.text(-0.5, 240, 'Clustering took {:.2f} s'.format(end_time - start_time), fontsize=14)"
   ]
  },
  {
   "cell_type": "code",
   "execution_count": 29,
   "metadata": {},
   "outputs": [
    {
     "data": {
      "text/plain": [
       "<matplotlib.collections.PathCollection at 0x7f7b014c8630>"
      ]
     },
     "execution_count": 29,
     "metadata": {},
     "output_type": "execute_result"
    },
    {
     "data": {
      "image/png": "[encoded data removed]",
      "text/plain": [
       "<Figure size 432x288 with 1 Axes>"
      ]
     },
     "metadata": {
      "needs_background": "light"
     },
     "output_type": "display_data"
    }
   ],
   "source": [
    "plt.title('TCIA109/LGG scatter')\n",
    "plt.scatter(image_colsres.T[0],image_colsres.T[1],**plot_kwds)\n",
    "#plt.scatter(*image_colsres.T[0],image_colsres.T[1],**plot_kwds)\n",
    "#y,x = np.indices(image_cols.shape[:2])\n",
    "#plt.scatter(x,y,**plot_kwds)"
   ]
  },
  {
   "cell_type": "code",
   "execution_count": 32,
   "metadata": {
    "scrolled": true
   },
   "outputs": [
    {
     "data": {
      "image/png": "[encoded data removed]",
      "text/plain": [
       "<Figure size 432x288 with 1 Axes>"
      ]
     },
     "metadata": {
      "needs_background": "light"
     },
     "output_type": "display_data"
    }
   ],
   "source": [
    "plot_clusters(image_cols, hdbs.HDBSCAN, (), {'min_cluster_size':30, 'min_samples':None,'gen_min_span_tree':True,'approx_min_span_tree':True})\n",
    "#plot_clusters(image_cols, cluster.KMeans, (), {'n_clusters':6,'n_init': 30})\n",
    "#plot_clusters(image_cols, cluster.MeanShift, (0.175,), {'cluster_all':False,'bin_seeding':True, 'min_bin_freq':1 })\n",
    "#plot_clusters(image_colsres, cluster.SpectralClustering, (), {'n_clusters':6})\n"
   ]
  },
  {
   "cell_type": "code",
   "execution_count": null,
   "metadata": {},
   "outputs": [],
   "source": [
    "#plot_clusters(image_cols, cluster.DBSCAN, (), {'eps':10, 'min_samples':20,'metric':'euclidean'})\n",
    "plot_clusters(image_cols, cluster.AgglomerativeClustering, (), {'n_clusters':6, 'linkage':'ward'})"
   ]
  },
  {
   "cell_type": "code",
   "execution_count": null,
   "metadata": {},
   "outputs": [],
   "source": [
    "#thresholding using opencv2\n",
    "#hdbreread= sitk.GetImageFromArray(fl_resnorm)\n",
    "#img = cv2.medianBlur(fl_resnorm,5).astype('uint8')\n",
    "#img = cv2.medianBlur(fl_res,5).astype('uint8')\n",
    "#img = cv2.medianBlur(segmented_image,5).astype('uint8')\n",
    "img = cv2.medianBlur(dbsegmented_image,5).astype('uint8')\n",
    "#img = segmented_image.astype('uint8')\n",
    "#global thresh 160\n",
    "\n",
    "threshval = 150\n",
    "th1 = cv2.threshold(img,threshval,255,cv2.THRESH_BINARY)[1]\n",
    "\n",
    "\n",
    "#adaptive thresh\n",
    "#th2 = cv2.adaptiveThreshold(img,255,cv2.ADAPTIVE_THRESH_MEAN_C,\\\n",
    "#            cv2.THRESH_BINARY,11,2)\n",
    "#adaptive gaussian\n",
    "#th3 = cv2.adaptiveThreshold(img,255,cv2.ADAPTIVE_THRESH_GAUSSIAN_C,\\\n",
    "#            cv2.THRESH_BINARY,11,2)\n",
    "\n",
    "#titles = ['Original Image', 'Global Thresholding (v = 127)',\n",
    "#            'Adaptive Mean Thresholding', 'Adaptive Gaussian Thresholding']\n",
    "#images = [img, th1, th2, th3]\n",
    "\n",
    "#for i in range(4):\n",
    "#    plt.subplot(2,2,i+1),plt.imshow(images[i],'gray')\n",
    "#    plt.title(titles[i])\n",
    "#    plt.xticks([]),plt.yticks([])\n",
    "plt.title('global thresh')\n",
    "plt.xticks([]),plt.yticks([])\n",
    "plt.imshow(th1,'gray')\n",
    "\n"
   ]
  },
  {
   "cell_type": "code",
   "execution_count": null,
   "metadata": {},
   "outputs": [],
   "source": [
    "th1flatt=th1.flatten()"
   ]
  },
  {
   "cell_type": "code",
   "execution_count": null,
   "metadata": {
    "scrolled": false
   },
   "outputs": [],
   "source": [
    "#with open('/home/omar/Desktop/cminitialtumorhdbscan','w') as f:\n",
    "cmth = ConfusionMatrix(segarreshap,th1flatt)\n",
    "print(cmth.print_stats())\n",
    "#print(cm.print_stats(),file=f)\n",
    "#if th1.all() == masknorm.all():\n",
    "#   print('ventricles are highlighted')"
   ]
  },
  {
   "cell_type": "code",
   "execution_count": null,
   "metadata": {},
   "outputs": [],
   "source": [
    "#from scipy import stats\n",
    "#th1mode = stats.mode(th1)\n",
    "#print(th1mode)"
   ]
  },
  {
   "cell_type": "code",
   "execution_count": null,
   "metadata": {},
   "outputs": [],
   "source": [
    "np.count_nonzero(th1flatt)"
   ]
  },
  {
   "cell_type": "code",
   "execution_count": null,
   "metadata": {},
   "outputs": [],
   "source": [
    "threshmax = th1flatt.max()"
   ]
  },
  {
   "cell_type": "code",
   "execution_count": null,
   "metadata": {},
   "outputs": [],
   "source": [
    "th1flatt.min()"
   ]
  },
  {
   "cell_type": "code",
   "execution_count": null,
   "metadata": {},
   "outputs": [],
   "source": [
    "if th1flatt.max() == 0:\n",
    "    threshval = 150\n",
    "    th2 = cv2.threshold(img,threshval,255,cv2.THRESH_BINARY)[1]\n",
    "    plt.title('global thresh with threshval')\n",
    "    plt.xticks([]),plt.yticks([])\n",
    "    plt.imshow(th2,'gray')\n",
    "else: \n",
    "    print(\"thresholding either did not take place or thresholding went well \")"
   ]
  },
  {
   "cell_type": "code",
   "execution_count": null,
   "metadata": {},
   "outputs": [],
   "source": [
    "th1.min()"
   ]
  },
  {
   "cell_type": "code",
   "execution_count": null,
   "metadata": {},
   "outputs": [],
   "source": [
    "plt.imshow(th1,interpolation=\"nearest\",cmap=plt.cm.gray)\n",
    "th1flat = th1.flatten()\n",
    "segarreshap"
   ]
  },
  {
   "cell_type": "code",
   "execution_count": null,
   "metadata": {},
   "outputs": [],
   "source": [
    "contournorm = th1\n",
    "normcopy = fl_resnorm"
   ]
  },
  {
   "cell_type": "code",
   "execution_count": null,
   "metadata": {},
   "outputs": [],
   "source": [
    "# find contours in the thresholded image\n",
    "cnts = cv2.findContours(contournorm.copy(), cv2.RETR_EXTERNAL,\n",
    "    cv2.CHAIN_APPROX_SIMPLE)\n",
    "cnts = imutils.grab_contours(cnts)\n",
    "#sd = ShapeDetector()\n",
    "screenCnt = None"
   ]
  },
  {
   "cell_type": "code",
   "execution_count": null,
   "metadata": {},
   "outputs": [],
   "source": [
    "# loop over our contours\n",
    "for c in cnts:\n",
    "\t# approximate the contour\n",
    "\tM = cv2.moments(c)\n",
    "\tcX = int(M[\"m10\"] / M[\"m00\"])\n",
    "\tcY = int(M[\"m01\"] / M[\"m00\"])\n",
    "\tperi = cv2.arcLength(c, True)\n",
    "\tapprox = cv2.approxPolyDP(c, 0.015 * peri, True)\n",
    " \n",
    "\t# if our approximated contour has four points, then\n",
    "\t# we can assume that we have found our screen\n",
    "\tif len(approx) > 1:\n",
    "\t\tscreenCnt = approx\n",
    "\t\tbreak\n",
    "        "
   ]
  },
  {
   "cell_type": "code",
   "execution_count": null,
   "metadata": {},
   "outputs": [],
   "source": [
    "cv2.drawContours(normcopy, [screenCnt], -1, (0, 255, 0), 3)\n",
    "plt.imshow(normcopy,cmap=plt.cm.gray)\n",
    "#plt.savefig(\"/home/omar/Documents/Results/normalbrain/ventricles.jpg\")\n",
    "cv2.waitKey(0)"
   ]
  },
  {
   "cell_type": "code",
   "execution_count": null,
   "metadata": {},
   "outputs": [],
   "source": []
  },
  {
   "cell_type": "code",
   "execution_count": null,
   "metadata": {},
   "outputs": [],
   "source": [
    "if screenCnt.any() <= 255:\n",
    "    print(\"normal brain,some areas may appear brighter due to contrast\")\n",
    "else:\n",
    "    print(\"brain contains a tumor\")"
   ]
  },
  {
   "cell_type": "code",
   "execution_count": null,
   "metadata": {},
   "outputs": [],
   "source": [
    "# loop over the contours\n",
    "for c in cnts:\n",
    "\t# compute the center of the contour\n",
    "\tM = cv2.moments(c)\n",
    "\tcX = int(M[\"m10\"] / M[\"m00\"])\n",
    "\tcY = int(M[\"m01\"] / M[\"m00\"])\n",
    " \n",
    "\t# draw the contour and center of the shape on the image\n",
    "\tcv2.drawContours(fl_resnorm, [c], -1, (0, 255, 0), 2)\n",
    "\tcv2.circle(fl_resnorm, (cX, cY), 7, (255, 255, 255), -1)\n",
    "\t#cv2.putText(fl_resnorm, \"\", (cX - 20, cY - 20),\n",
    "\t\t#cv2.FONT_HERSHEY_SIMPLEX, 0.5, (255, 255, 255), 2\n",
    " \n",
    "\t# show the image\n",
    "\tplt.imshow(fl_resnorm)\n",
    "\tcv2.waitKey(0)"
   ]
  },
  {
   "cell_type": "code",
   "execution_count": null,
   "metadata": {},
   "outputs": [],
   "source": []
  },
  {
   "cell_type": "code",
   "execution_count": null,
   "metadata": {},
   "outputs": [],
   "source": []
  },
  {
   "cell_type": "code",
   "execution_count": null,
   "metadata": {},
   "outputs": [],
   "source": []
  },
  {
   "cell_type": "code",
   "execution_count": null,
   "metadata": {},
   "outputs": [],
   "source": [
    "from sklearn.metrics import confusion_matrix\n",
    "cm = confusion_matrix(segarreshap,dbflat)\n",
    "#cm = confusion_matrix(segarreshap,th1flatt)\n",
    "#plt.figure(figsize=(30, 30))\n",
    "#plt.figure(1)\n",
    "sns.set()\n",
    "plt.figure(figsize =(10,5))\n",
    "sns.heatmap(cm, annot=True, fmt='d' , cmap=\"Blues\")\n",
    "#plt.axes.set_ylim(5,5)\n",
    "plt.title('Initial confusion matrix calculated from hdbscan TCIA312 ')\n",
    "plt.show()\n",
    "#plt.savefig(\"/home/omar/Documents/initialdbscancm.jpg\")"
   ]
  },
  {
   "cell_type": "code",
   "execution_count": null,
   "metadata": {
    "scrolled": false
   },
   "outputs": [],
   "source": [
    "from sklearn.utils.linear_assignment_ import linear_assignment\n",
    "\n",
    "def _make_cost_m(cm):\n",
    "    s = np.max(cm)\n",
    "    return (- cm + s)\n",
    "\n",
    "indexes = linear_assignment(_make_cost_m(cm))\n",
    "js = [e[1] for e in sorted(indexes, key=lambda x: x[0])]\n",
    "cm2 = cm[:, js]\n",
    "plt.figure(figsize =(10,5))\n",
    "sns.heatmap(cm2,annot=True, fmt='d', cmap=\"Blues\")\n",
    "plt.title('Reordering confusion matrix columns so that sum of diagonal values is maximal ')\n",
    "plt.show()"
   ]
  },
  {
   "cell_type": "code",
   "execution_count": null,
   "metadata": {},
   "outputs": [],
   "source": [
    "cmacc = np.trace(cm)/np.sum(cm)\n",
    "print('Accuracy obtained from initial confusion matrix:', cmacc)"
   ]
  },
  {
   "cell_type": "code",
   "execution_count": null,
   "metadata": {},
   "outputs": [],
   "source": [
    "cm2acc = np.trace(cm2)/np.sum(cm2)\n",
    "print('Accuracy based on the reordered confusion matrix:', cm2acc)"
   ]
  },
  {
   "cell_type": "code",
   "execution_count": null,
   "metadata": {},
   "outputs": [],
   "source": [
    "FP = cm2.sum(axis=0) - np.diag(cm2)  \n",
    "FN = cm2.sum(axis=1) - np.diag(cm2)\n",
    "TP = np.diag(cm2)\n",
    "TN = cm2.sum() - (FP + FN + TP)\n",
    "\n",
    "# Sensitivity, hit rate, recall, or true positive rate\n",
    "TPR = TP/(TP+FN)\n",
    "# Specificity or true negative rate\n",
    "TNR = TN/(TN+FP) \n",
    "# Precision or positive predictive value\n",
    "PPV = TP/(TP+FP)\n",
    "# Negative predictive value\n",
    "NPV = TN/(TN+FN)\n",
    "# Fall out or false positive rate\n",
    "FPR = FP/(FP+TN)\n",
    "# False negative rate\n",
    "FNR = FN/(TP+FN)\n",
    "# False discovery rate\n",
    "FDR = FP/(TP+FP)\n",
    "\n",
    "# Overall accuracy\n",
    "ACC = (TP+TN)/(TP+FP+FN+TN)"
   ]
  },
  {
   "cell_type": "code",
   "execution_count": null,
   "metadata": {},
   "outputs": [],
   "source": [
    "print('TPR',TPR)\n",
    "#print('TNR',TNR)\n",
    "#print('PPV',PPV)\n",
    "#print('NPV',NPV)\n",
    "print('FPR',FPR)\n",
    "#print('FNR',FNR)\n",
    "#print('FDR',FDR)\n",
    "print('ACC',ACC)"
   ]
  },
  {
   "cell_type": "code",
   "execution_count": null,
   "metadata": {},
   "outputs": [],
   "source": [
    "print('Accuracy score',metrics.accuracy_score(segarreshap,th1flat))"
   ]
  },
  {
   "cell_type": "code",
   "execution_count": null,
   "metadata": {},
   "outputs": [],
   "source": [
    "g = sns.clustermap(segarr)"
   ]
  },
  {
   "cell_type": "code",
   "execution_count": null,
   "metadata": {
    "scrolled": false
   },
   "outputs": [],
   "source": [
    "#reader = sitk.ImageFileReader()\n",
    "#reader.SetImageIO(\"JPEGImageIO\")\n",
    "#reader.SetFileName('/home/omar/Documents/hdbscan.jpg')\n",
    "#image = reader.Execute()\n",
    "#hdbreread = sitk.ReadImage('/home/omar/Documents/hdbscan.jpg')\n",
    "# triangle,huang,maxentropy,otsu,binarythreshold,yen,RenyiEntropy,\n",
    "hdbreread= sitk.GetImageFromArray(fl_resnorm)\n",
    "threshold_filter = sitk.OtsuThresholdImageFilter()\n",
    "threshold_filter.SetInsideValue(0)\n",
    "threshold_filter.SetOutsideValue(1)\n",
    "threshold_image = threshold_filter.Execute(hdbreread)\n",
    "threshold_value = threshold_filter.GetThreshold()\n",
    "threshold_value = 200\n",
    "threshold_image = normaltest>threshold_value\n",
    "plt.title('otsu threshold result')\n",
    "#plt.grid(None)\n",
    "plt.imshow(threshold_image,interpolation=\"nearest\",cmap=plt.cm.gray)\n",
    "#plt.savefig(\"/home/omar/Documents/Results/normalbrain/otsuthreshold_42.jpg\")\n"
   ]
  },
  {
   "cell_type": "code",
   "execution_count": null,
   "metadata": {
    "scrolled": true
   },
   "outputs": [],
   "source": [
    "dbhm = sns.clustermap(dbsegmented_image)"
   ]
  },
  {
   "cell_type": "code",
   "execution_count": null,
   "metadata": {
    "scrolled": true
   },
   "outputs": [],
   "source": [
    "thhm = sns.clustermap(th1)"
   ]
  },
  {
   "cell_type": "code",
   "execution_count": null,
   "metadata": {},
   "outputs": [],
   "source": [
    "from skimage import measure\n",
    "def mse(imageA, imageB):\n",
    "\t# the 'Mean Squared Error' between the two images is the\n",
    "\t# sum of the squared difference between the two images;\n",
    "\t# NOTE: the two images must have the same dimension\n",
    "\terr = np.sum((imageA.astype(\"float\") - imageB.astype(\"float\")) ** 2)\n",
    "\terr /= float(imageA.shape[0] * imageA.shape[1])\n",
    "\t\n",
    "\t# return the MSE, the lower the error, the more \"similar\"\n",
    "\t# the two images are\n",
    "\treturn err\n",
    " \n",
    "def compare_images(imageA, imageB, title):\n",
    "\t# compute the mean squared error and structural similarity\n",
    "\t# index for the images\n",
    "\tm = mse(imageA, imageB)\n",
    "\ts = measure.compare_ssim(imageA, imageB)\n",
    " \n",
    "\t# setup the figure\n",
    "\tfig = plt.figure(title)\n",
    "\tplt.suptitle(\"MSE: %.2f, SSIM: %.2f\" % (m, s))\n",
    " \n",
    "\t# show first image\n",
    "\tax = fig.add_subplot(1, 2, 1)\n",
    "\tplt.imshow(imageA, cmap = plt.cm.gray)\n",
    "\tplt.axis(\"off\")\n",
    " \n",
    "\t# show the second image\n",
    "\tax = fig.add_subplot(1, 2, 2)\n",
    "\tplt.imshow(imageB, cmap = plt.cm.gray)\n",
    "\tplt.axis(\"off\")\n",
    " \n",
    "\t# show the images\n",
    "\tplt.show()\n"
   ]
  },
  {
   "cell_type": "code",
   "execution_count": null,
   "metadata": {},
   "outputs": [],
   "source": [
    "# initialize the figure\n",
    "fig = plt.figure(\"Images\")\n",
    "images = (\"Original\", segarr), (\"dbseg\", dbsegmented_image), (\"global threshold\",th1)\n",
    " \n",
    "# loop over the images\n",
    "for (i, (name, image)) in enumerate(images):\n",
    "\t# show the image\n",
    "\tax = fig.add_subplot(1, 3, i + 1)\n",
    "\tax.set_title(name)\n",
    "\tplt.imshow(image, cmap = plt.cm.gray)\n",
    "\tplt.axis(\"off\")\n",
    "#\twhile i<7:\n",
    "#\t\tplt.savefig('/home/omar/Documents/hdbsegcomparison {0}.jpg')\n",
    "#\t\ti+1\n",
    "#show the figure\n",
    "plt.show()\n",
    "\n",
    "# compare the images\n",
    "compare_images(segarr, dbsegmented_image, \"original seg vs dbseg\")\n",
    "compare_images(segarr, segarr, \"original seg vs original seg\")\n",
    "compare_images(segarr, th1, \"original seg vs thresh seg\")\n",
    "\n",
    "#plt.savefig(\"/home/omar/Documents/hdbsegcomparison.jpg\")"
   ]
  },
  {
   "cell_type": "code",
   "execution_count": null,
   "metadata": {},
   "outputs": [],
   "source": [
    "s"
   ]
  },
  {
   "cell_type": "code",
   "execution_count": null,
   "metadata": {},
   "outputs": [],
   "source": [
    "#from scipy.spatial import distance_matrix\n",
    "#origdm = distance_matrix(image_cols,dbsegmented_image)\n",
    "from sklearn.metrics import pairwise_distances\n",
    "#vecorig=image_cols.flatten()\n",
    "origdm = pairwise_distances(image_cols)"
   ]
  },
  {
   "cell_type": "code",
   "execution_count": null,
   "metadata": {},
   "outputs": [],
   "source": [
    "#from sklearn.metrics import pairwise_distances\n",
    "#pwd = pairwise_distances(image_cols,metric='euclidean')\n"
   ]
  },
  {
   "cell_type": "code",
   "execution_count": null,
   "metadata": {},
   "outputs": [],
   "source": [
    "#from skbio.stats.distance import DissimilarityMatrix\n",
    "#dm = pwd\n",
    "#pwd"
   ]
  },
  {
   "cell_type": "code",
   "execution_count": null,
   "metadata": {},
   "outputs": [],
   "source": [
    "#fig = dm.plot(cmap='Reds', title='aggloheatmap')"
   ]
  },
  {
   "cell_type": "code",
   "execution_count": null,
   "metadata": {},
   "outputs": [],
   "source": []
  }
 ],
 "metadata": {
  "kernelspec": {
   "display_name": "Python 3",
   "language": "python",
   "name": "python3"
  },
  "language_info": {
   "codemirror_mode": {
    "name": "ipython",
    "version": 3
   },
   "file_extension": ".py",
   "mimetype": "text/x-python",
   "name": "python",
   "nbconvert_exporter": "python",
   "pygments_lexer": "ipython3",
   "version": "3.6.9"
  }
 },
 "nbformat": 4,
 "nbformat_minor": 2
}
